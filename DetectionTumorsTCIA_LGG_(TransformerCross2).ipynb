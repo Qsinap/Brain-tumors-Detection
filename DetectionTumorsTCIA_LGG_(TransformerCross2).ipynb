{
  "nbformat": 4,
  "nbformat_minor": 0,
  "metadata": {
    "colab": {
      "name": "DetectionTumorsTCIA_LGG_(TransformerCross2).ipynb",
      "provenance": [],
      "collapsed_sections": [],
      "machine_shape": "hm"
    },
    "kernelspec": {
      "name": "python3",
      "display_name": "Python 3"
    },
    "language_info": {
      "name": "python"
    },
    "accelerator": "GPU"
  },
  "cells": [
    {
      "cell_type": "code",
      "metadata": {
        "id": "cmrzxpR7Jox2"
      },
      "source": [
        "!apt-get install -y -qq software-properties-common python-software-properties module-init-tools\n",
        "!add-apt-repository -y ppa:alessandro-strada/ppa 2>&1 > /dev/null\n",
        "!apt-get update -qq 2>&1 > /dev/null\n",
        "!apt-get -y install -qq google-drive-ocamlfuse fuse\n",
        "from google.colab import auth\n",
        "auth.authenticate_user()\n",
        "from oauth2client.client import GoogleCredentials\n",
        "creds = GoogleCredentials.get_application_default()\n",
        "import getpass\n",
        "!google-drive-ocamlfuse -headless -id={creds.client_id} -secret={creds.client_secret} < /dev/null 2>&1 | grep URL\n",
        "vcode = getpass.getpass()\n",
        "!echo {vcode} | google-drive-ocamlfuse -headless -id={creds.client_id} -secret={creds.client_secret}\n",
        "%cd /content\n",
        "!mkdir drive\n",
        "%cd drive\n",
        "!mkdir MyDrive\n",
        "%cd ..\n",
        "%cd ..\n",
        "!google-drive-ocamlfuse /content/drive/MyDrive"
      ],
      "execution_count": null,
      "outputs": []
    },
    {
      "cell_type": "code",
      "metadata": {
        "colab": {
          "base_uri": "https://localhost:8080/"
        },
        "id": "aNvlIIkG1qbX",
        "outputId": "1fda833b-da2d-4921-b2cf-942f62de38a5"
      },
      "source": [
        "import keras.backend as K\n",
        "import numpy as np\n",
        "import matplotlib.pyplot as plt\n",
        "import glob\n",
        "import os\n",
        "import math\n",
        "from keras.callbacks import ModelCheckpoint, EarlyStopping\n",
        "import tensorflow as tf\n",
        "import scipy.io as sio\n",
        "import pandas as pd\n",
        "import time\n",
        "import cv2\n",
        "from skimage.transform import resize\n",
        "from IPython.display import clear_output\n",
        "os.system('pip install tensorflow-addons')"
      ],
      "execution_count": 2,
      "outputs": [
        {
          "output_type": "execute_result",
          "data": {
            "text/plain": [
              "0"
            ]
          },
          "metadata": {},
          "execution_count": 2
        }
      ]
    },
    {
      "cell_type": "code",
      "metadata": {
        "id": "X6tJG1bp1EyB"
      },
      "source": [
        "def one_hot(vec):\n",
        "  items=np.sort(pd.unique(vec))\n",
        "  n_class=np.shape(items)[0]\n",
        "  zeros=np.zeros((vec.size, n_class))\n",
        "  for n,i in enumerate(items):\n",
        "    rows=np.where(vec==i)[0]\n",
        "    zeros[rows,n]=1\n",
        "  return zeros.astype('float32'), n_class"
      ],
      "execution_count": 3,
      "outputs": []
    },
    {
      "cell_type": "code",
      "metadata": {
        "id": "1AgKeBDM1HQA"
      },
      "source": [
        "def get_index(vec_lab, seed=1996, split_train=0.6, validation=False):\n",
        "  train=[]\n",
        "  valid=[]\n",
        "  test =[]\n",
        "\n",
        "  spv=(1-split_train)/2.\n",
        "  for i in range(2):\n",
        "    ind_clss=np.where(vec_lab[:,i]==1)[0]\n",
        "    sz=len(ind_clss)\n",
        "    np.random.seed(seed)\n",
        "    ramd=np.random.choice(sz, sz, replace=False)\n",
        "    train=np.append(train, ind_clss[ramd[:int(sz*split_train)]])\n",
        "    valid=np.append(valid, ind_clss[ramd[int(sz*split_train):int(sz*(split_train+spv))]])\n",
        "    test =np.append(test, ind_clss[ramd[int(sz*(split_train+spv)):]])\n",
        "  train=train[np.random.choice(len(train), len(train), replace=False)].astype('int')\n",
        "  valid=valid[np.random.choice(len(valid), len(valid), replace=False)].astype('int')\n",
        "  test= test[np.random.choice(len(test), len(test), replace=False)].astype('int')\n",
        "  if validation:\n",
        "    return train, valid, test\n",
        "  else:\n",
        "    return np.concatenate((train,valid)), test"
      ],
      "execution_count": 4,
      "outputs": []
    },
    {
      "cell_type": "code",
      "metadata": {
        "id": "BAUWhm6R1StX"
      },
      "source": [
        "def augmentation_f(data, labx):\n",
        "  images=tf.concat([data,\n",
        "                  tf.image.rot90(data, 1),\n",
        "                  tf.image.rot90(data, 2),\n",
        "                  tf.image.rot90(data, 3)], 0)\n",
        "  lab=tf.concat([labx,labx,labx,labx], 0)\n",
        "  sc=np.shape(images)[0]\n",
        "  idr=np.random.choice(sc,sc,replace=False)\n",
        "  images=tf.convert_to_tensor(np.array(images)[idr])\n",
        "  lab=tf.convert_to_tensor(np.array(lab)[idr])\n",
        "  return images, lab"
      ],
      "execution_count": 5,
      "outputs": []
    },
    {
      "cell_type": "code",
      "metadata": {
        "id": "XxCqrwDz1U3P"
      },
      "source": [
        "def get_data_training(indx, ima_tens, labels_v, k_fold='none', number_folds=10, augm=False):\n",
        "  if k_fold!='none':\n",
        "    sz=len(indx)/number_folds\n",
        "    valid=indx[int(k_fold*sz):int((k_fold+1)*sz)]\n",
        "    train=np.concatenate((indx[:int(k_fold*sz)],indx[int((k_fold+1)*sz):])) \n",
        "\n",
        "    x_data=tf.image.grayscale_to_rgb(tf.convert_to_tensor(np.array(ima_tens)[train]))\n",
        "    v_data=tf.image.grayscale_to_rgb(tf.convert_to_tensor(np.array(ima_tens)[valid]))\n",
        "    y_data=tf.convert_to_tensor(np.array(labels_v)[train])\n",
        "    vy_dat=tf.convert_to_tensor(np.array(labels_v)[valid])\n",
        "\n",
        "    if augm:\n",
        "      x_data, y_data=augmentation_f(x_data, y_data)\n",
        "      v_data, vy_dat=augmentation_f(v_data, vy_dat)\n",
        "\n",
        "    return x_data, v_data, y_data, vy_dat\n",
        "  else:\n",
        "    x_data=tf.image.grayscale_to_rgb(tf.convert_to_tensor(np.array(ima_tens)[indx]))\n",
        "    y_data=tf.convert_to_tensor(np.array(labels_v)[indx])\n",
        "    if augm:\n",
        "      x_data, y_data=augmentation_f(x_data, y_data)\n",
        "    return x_data, y_data"
      ],
      "execution_count": 6,
      "outputs": []
    },
    {
      "cell_type": "code",
      "metadata": {
        "id": "796xLgdF1bCo"
      },
      "source": [
        "def get_data(sequences='T1'): #'FLAIR','T1_Gd'\n",
        "  data_dir=('/content/drive/MyDrive/Brain_tumors_v2/Datasets/TCIA_LGG/x_x.mat')\n",
        "  mats=sio.loadmat(data_dir.replace('x_x', sequences))\n",
        "  images=mats['images']\n",
        "  images=images.reshape((np.shape(images)[0],np.shape(images)[1],np.shape(images)[2],1))\n",
        "  labels=(mats['size_tumor'][0]!=0).astype('int')\n",
        "  images=tf.image.resize(images, [240,240], method='nearest')\n",
        "  labels, n_class=one_hot(labels)\n",
        "  return images, labels, n_class"
      ],
      "execution_count": 7,
      "outputs": []
    },
    {
      "cell_type": "code",
      "metadata": {
        "id": "uXrAFGXC1ffg"
      },
      "source": [
        "from tensorflow.keras import applications as ap\n",
        "from tensorflow.keras.models import Sequential\n",
        "from tensorflow.keras.layers import Dense"
      ],
      "execution_count": 8,
      "outputs": []
    },
    {
      "cell_type": "code",
      "metadata": {
        "colab": {
          "base_uri": "https://localhost:8080/",
          "height": 48
        },
        "id": "1NXUPTVB1ktZ",
        "outputId": "efe5c34b-9a21-48ef-ce43-9b126bad19c7"
      },
      "source": [
        "df = pd.DataFrame(columns=('run_n', 'k_fold', 'network', 'optimizer', 'loss', 'epochs', 'total_parameters', 'time', 'transfer', 'augm', 'Class', 'TP', 'TN', 'FP', 'FN','result_mat'))\n",
        "df.head()"
      ],
      "execution_count": 9,
      "outputs": [
        {
          "output_type": "execute_result",
          "data": {
            "text/html": [
              "<div>\n",
              "<style scoped>\n",
              "    .dataframe tbody tr th:only-of-type {\n",
              "        vertical-align: middle;\n",
              "    }\n",
              "\n",
              "    .dataframe tbody tr th {\n",
              "        vertical-align: top;\n",
              "    }\n",
              "\n",
              "    .dataframe thead th {\n",
              "        text-align: right;\n",
              "    }\n",
              "</style>\n",
              "<table border=\"1\" class=\"dataframe\">\n",
              "  <thead>\n",
              "    <tr style=\"text-align: right;\">\n",
              "      <th></th>\n",
              "      <th>run_n</th>\n",
              "      <th>k_fold</th>\n",
              "      <th>network</th>\n",
              "      <th>optimizer</th>\n",
              "      <th>loss</th>\n",
              "      <th>epochs</th>\n",
              "      <th>total_parameters</th>\n",
              "      <th>time</th>\n",
              "      <th>transfer</th>\n",
              "      <th>augm</th>\n",
              "      <th>Class</th>\n",
              "      <th>TP</th>\n",
              "      <th>TN</th>\n",
              "      <th>FP</th>\n",
              "      <th>FN</th>\n",
              "      <th>result_mat</th>\n",
              "    </tr>\n",
              "  </thead>\n",
              "  <tbody>\n",
              "  </tbody>\n",
              "</table>\n",
              "</div>"
            ],
            "text/plain": [
              "Empty DataFrame\n",
              "Columns: [run_n, k_fold, network, optimizer, loss, epochs, total_parameters, time, transfer, augm, Class, TP, TN, FP, FN, result_mat]\n",
              "Index: []"
            ]
          },
          "metadata": {},
          "execution_count": 9
        }
      ]
    },
    {
      "cell_type": "code",
      "metadata": {
        "id": "8WqiMXgj19QA"
      },
      "source": [
        "TP=tf.keras.metrics.TruePositives()\n",
        "TN=tf.keras.metrics.TrueNegatives()\n",
        "FP=tf.keras.metrics.FalsePositives()\n",
        "FN=tf.keras.metrics.FalseNegatives()"
      ],
      "execution_count": 10,
      "outputs": []
    },
    {
      "cell_type": "code",
      "metadata": {
        "colab": {
          "base_uri": "https://localhost:8080/"
        },
        "id": "-3IzJgCO4IQZ",
        "outputId": "1483e4f2-9e2a-4a9a-b5aa-3b0f35096903"
      },
      "source": [
        "seq='FLAIR'#,\n",
        "imas, labs, no_cls=get_data(seq)\n",
        "\n",
        "train_id, test_id=get_index(labs)\n",
        "x_train, y_trai=get_data_training(train_id, imas, labs)\n",
        "x_test, y_test0=get_data_training(test_id,  imas, labs)\n",
        "\n",
        "num_classes = np.shape(y_trai)[1]\n",
        "input_shape = np.shape(x_train)[1:]\n",
        "\n",
        "y_train=np.argmax(y_trai, axis=1).reshape(np.shape(y_trai)[0],1)\n",
        "y_test=np.argmax(y_test0, axis=1).reshape(np.shape(y_test0)[0],1)\n",
        "\n",
        "print(np.shape(x_train), np.shape(y_train))\n",
        "print(np.shape(x_test), np.shape(y_test))"
      ],
      "execution_count": 11,
      "outputs": [
        {
          "output_type": "stream",
          "name": "stdout",
          "text": [
            "(3142, 240, 240, 3) (3142, 1)\n",
            "(787, 240, 240, 3) (787, 1)\n"
          ]
        }
      ]
    },
    {
      "cell_type": "code",
      "metadata": {
        "id": "mue62zrf5gQJ"
      },
      "source": [
        "import numpy as np\n",
        "import tensorflow as tf\n",
        "from tensorflow import keras\n",
        "from tensorflow.keras import layers\n",
        "import tensorflow_addons as tfa"
      ],
      "execution_count": 12,
      "outputs": []
    },
    {
      "cell_type": "code",
      "metadata": {
        "id": "9a3xedpc4-7h"
      },
      "source": [
        "learning_rate = 0.001\n",
        "weight_decay = 0.0001\n",
        "batch_size = 256\n",
        "num_epochs = 100\n",
        "image_size = 72  # We'll resize input images to this size\n",
        "patch_size = 6  # Size of the patches to be extract from the input images\n",
        "num_patches = (image_size // patch_size) ** 2\n",
        "projection_dim = 64\n",
        "num_heads = 4\n",
        "transformer_units = [\n",
        "    projection_dim * 2,\n",
        "    projection_dim,\n",
        "]  # Size of the transformer layers\n",
        "transformer_layers = 8\n",
        "mlp_head_units = [2048, 1024]"
      ],
      "execution_count": 13,
      "outputs": []
    },
    {
      "cell_type": "code",
      "metadata": {
        "id": "6dsJQcFb5V_x"
      },
      "source": [
        "data_augmentation = keras.Sequential(\n",
        "    [\n",
        "        layers.Normalization(),\n",
        "        layers.Resizing(image_size, image_size),\n",
        "        #layers.RandomFlip(\"horizontal\"),\n",
        "        #layers.RandomRotation(factor=0.02),\n",
        "        #layers.RandomZoom(height_factor=0.2, width_factor=0.2),\n",
        "    ],\n",
        "    name=\"data_augmentation\",\n",
        ")\n",
        "# Compute the mean and the variance of the training data for normalization.\n",
        "data_augmentation.layers[0].adapt(x_train)"
      ],
      "execution_count": 14,
      "outputs": []
    },
    {
      "cell_type": "code",
      "metadata": {
        "id": "FF5Pq_HW5qfB"
      },
      "source": [
        "def mlp(x, hidden_units, dropout_rate):\n",
        "    for units in hidden_units:\n",
        "        x = layers.Dense(units, activation=tf.nn.gelu)(x)\n",
        "        x = layers.Dropout(dropout_rate)(x)\n",
        "    return x"
      ],
      "execution_count": 15,
      "outputs": []
    },
    {
      "cell_type": "code",
      "metadata": {
        "id": "1hutjc105sZ6"
      },
      "source": [
        "class Patches(layers.Layer):\n",
        "    def __init__(self, patch_size):\n",
        "        super(Patches, self).__init__()\n",
        "        self.patch_size = patch_size\n",
        "\n",
        "    def call(self, images):\n",
        "        batch_size = tf.shape(images)[0]\n",
        "        patches = tf.image.extract_patches(\n",
        "            images=images,\n",
        "            sizes=[1, self.patch_size, self.patch_size, 1],\n",
        "            strides=[1, self.patch_size, self.patch_size, 1],\n",
        "            rates=[1, 1, 1, 1],\n",
        "            padding=\"VALID\",\n",
        "        )\n",
        "        patch_dims = patches.shape[-1]\n",
        "        patches = tf.reshape(patches, [batch_size, -1, patch_dims])\n",
        "        return patches"
      ],
      "execution_count": 16,
      "outputs": []
    },
    {
      "cell_type": "code",
      "metadata": {
        "colab": {
          "base_uri": "https://localhost:8080/",
          "height": 543
        },
        "id": "Eum4XDJj5u-w",
        "outputId": "1272f18d-bd57-40b3-ec01-450af344a2dd"
      },
      "source": [
        "import matplotlib.pyplot as plt\n",
        "\n",
        "plt.figure(figsize=(4, 4))\n",
        "image = x_train[np.random.choice(range(x_train.shape[0]))]\n",
        "plt.imshow(image)\n",
        "plt.axis(\"off\")\n",
        "\n",
        "resized_image = tf.image.resize(\n",
        "    tf.convert_to_tensor([image]), size=(image_size, image_size)\n",
        ")\n",
        "patches = Patches(patch_size)(resized_image)\n",
        "print(f\"Image size: {image_size} X {image_size}\")\n",
        "print(f\"Patch size: {patch_size} X {patch_size}\")\n",
        "print(f\"Patches per image: {patches.shape[1]}\")\n",
        "print(f\"Elements per patch: {patches.shape[-1]}\")\n",
        "\n",
        "n = int(np.sqrt(patches.shape[1]))\n",
        "plt.figure(figsize=(4, 4))\n",
        "for i, patch in enumerate(patches[0]):\n",
        "    ax = plt.subplot(n, n, i + 1)\n",
        "    patch_img = tf.reshape(patch, (patch_size, patch_size, 3))\n",
        "    plt.imshow(patch_img.numpy())\n",
        "    plt.axis(\"off\")"
      ],
      "execution_count": 17,
      "outputs": [
        {
          "output_type": "stream",
          "name": "stdout",
          "text": [
            "Image size: 72 X 72\n",
            "Patch size: 6 X 6\n",
            "Patches per image: 144\n",
            "Elements per patch: 108\n"
          ]
        },
        {
          "output_type": "display_data",
          "data": {
            "image/png": "[encoded data removed]",
            "text/plain": [
              "<Figure size 288x288 with 1 Axes>"
            ]
          },
          "metadata": {
            "needs_background": "light"
          }
        },
        {
          "output_type": "display_data",
          "data": {
            "image/png": "[encoded data removed]",
            "text/plain": [
              "<Figure size 288x288 with 144 Axes>"
            ]
          },
          "metadata": {
            "needs_background": "light"
          }
        }
      ]
    },
    {
      "cell_type": "code",
      "metadata": {
        "id": "i3H3-dAD8mSl"
      },
      "source": [
        "class PatchEncoder(layers.Layer):\n",
        "    def __init__(self, num_patches, projection_dim):\n",
        "        super(PatchEncoder, self).__init__()\n",
        "        self.num_patches = num_patches\n",
        "        self.projection = layers.Dense(units=projection_dim)\n",
        "        self.position_embedding = layers.Embedding(\n",
        "            input_dim=num_patches, output_dim=projection_dim\n",
        "        )\n",
        "\n",
        "    def call(self, patch):\n",
        "        positions = tf.range(start=0, limit=self.num_patches, delta=1)\n",
        "        encoded = self.projection(patch) + self.position_embedding(positions)\n",
        "        return encoded"
      ],
      "execution_count": 18,
      "outputs": []
    },
    {
      "cell_type": "code",
      "metadata": {
        "id": "uD2hNmnSCx8C"
      },
      "source": [
        "from tensorflow.python.keras.engine.base_layer import Layer\n",
        "from tensorflow.python.keras import initializers\n",
        "from tensorflow.python.keras import regularizers\n",
        "from tensorflow.python.keras import constraints\n",
        "from tensorflow.python.framework import tensor_shape\n",
        "from tensorflow.python.keras.utils import tf_utils\n",
        "import string\n",
        "from tensorflow.python.keras.layers import einsum_dense\n",
        "from tensorflow.python.keras.layers import advanced_activations\n",
        "from tensorflow.python.keras.layers import core\n",
        "from tensorflow.python.ops import math_ops\n",
        "from tensorflow.python.ops import special_math_ops\n",
        "from tensorflow.python.util.tf_export import keras_export"
      ],
      "execution_count": 32,
      "outputs": []
    },
    {
      "cell_type": "code",
      "metadata": {
        "id": "fxtl1lk1COya"
      },
      "source": [
        "def _build_proj_equation(free_dims, bound_dims, output_dims):\n",
        "  input_str = \"\"\n",
        "  kernel_str = \"\"\n",
        "  output_str = \"\"\n",
        "  bias_axes = \"\"\n",
        "  letter_offset = 0\n",
        "  for i in range(free_dims):\n",
        "    char = _CHR_IDX[i + letter_offset]\n",
        "    input_str += char\n",
        "    output_str += char\n",
        "\n",
        "  letter_offset += free_dims\n",
        "  for i in range(bound_dims):\n",
        "    char = _CHR_IDX[i + letter_offset]\n",
        "    input_str += char\n",
        "    kernel_str += char\n",
        "\n",
        "  letter_offset += bound_dims\n",
        "  for i in range(output_dims):\n",
        "    char = _CHR_IDX[i + letter_offset]\n",
        "    kernel_str += char\n",
        "    output_str += char\n",
        "    bias_axes += char\n",
        "  equation = \"%s,%s->%s\" % (input_str, kernel_str, output_str)\n",
        "\n",
        "  return equation, bias_axes, len(output_str)"
      ],
      "execution_count": 33,
      "outputs": []
    },
    {
      "cell_type": "code",
      "metadata": {
        "id": "OYfEcs8RDrYr"
      },
      "source": [
        "def _get_output_shape(output_rank, known_last_dims):\n",
        "  return [None] * (output_rank - len(known_last_dims)) + list(known_last_dims)"
      ],
      "execution_count": 34,
      "outputs": []
    },
    {
      "cell_type": "code",
      "metadata": {
        "id": "gpr95vfmDwLb"
      },
      "source": [
        "def _build_attention_equation(rank, attn_axes):\n",
        "  target_notation = _CHR_IDX[:rank]\n",
        "  batch_dims = tuple(np.delete(range(rank), attn_axes + (rank - 1,)))\n",
        "  letter_offset = rank\n",
        "  source_notation = \"\"\n",
        "  for i in range(rank):\n",
        "    if i in batch_dims or i == rank - 1:\n",
        "      source_notation += target_notation[i]\n",
        "    else:\n",
        "      source_notation += _CHR_IDX[letter_offset]\n",
        "      letter_offset += 1\n",
        "\n",
        "  product_notation = \"\".join([target_notation[i] for i in batch_dims] +\n",
        "                             [target_notation[i] for i in attn_axes] +\n",
        "                             [source_notation[i] for i in attn_axes])\n",
        "  dot_product_equation = \"%s,%s->%s\" % (source_notation, target_notation,\n",
        "                                        product_notation)\n",
        "  attn_scores_rank = len(product_notation)\n",
        "  combine_equation = \"%s,%s->%s\" % (product_notation, source_notation,\n",
        "                                    target_notation)\n",
        "  return dot_product_equation, combine_equation, attn_scores_rank"
      ],
      "execution_count": 35,
      "outputs": []
    },
    {
      "cell_type": "code",
      "metadata": {
        "id": "LA3E6rC9D1cd"
      },
      "source": [
        "_CHR_IDX = string.ascii_lowercase"
      ],
      "execution_count": 36,
      "outputs": []
    },
    {
      "cell_type": "code",
      "metadata": {
        "id": "vnbNHxyj-6Xy"
      },
      "source": [
        "@keras_export(\"keras.layers.MultiHeadAttention2\")\n",
        "class MultiHeadAttention2(Layer):\n",
        "  \"\"\"MultiHeadAttention layer.\n",
        "  Nulti-head attention mechanism with the attention mechanism focused\n",
        "  on the query, keys and values. The attention mechanism is crossed to \n",
        "  avoid loss of information in dimension reduction by scalar product.\"\"\"\n",
        "\n",
        "  def __init__(self,\n",
        "               num_heads,\n",
        "               key_dim,\n",
        "               value_dim=None,\n",
        "               dropout=0.0,\n",
        "               use_bias=True,\n",
        "               output_shape=None,\n",
        "               attention_axes=None,\n",
        "               kernel_initializer=\"glorot_uniform\",\n",
        "               bias_initializer=\"zeros\",\n",
        "               kernel_regularizer=None,\n",
        "               bias_regularizer=None,\n",
        "               activity_regularizer=None,\n",
        "               kernel_constraint=None,\n",
        "               bias_constraint=None,\n",
        "               **kwargs):\n",
        "    super(MultiHeadAttention2, self).__init__(**kwargs)\n",
        "    self._num_heads = num_heads\n",
        "    self._key_dim = key_dim\n",
        "    self._value_dim = value_dim if value_dim else key_dim\n",
        "    self._dropout = dropout\n",
        "    self._use_bias = use_bias\n",
        "    self._output_shape = output_shape\n",
        "    self._kernel_initializer = initializers.get(kernel_initializer)\n",
        "    self._bias_initializer = initializers.get(bias_initializer)\n",
        "    self._kernel_regularizer = regularizers.get(kernel_regularizer)\n",
        "    self._bias_regularizer = regularizers.get(bias_regularizer)\n",
        "    self._kernel_constraint = constraints.get(kernel_constraint)\n",
        "    self._bias_constraint = constraints.get(bias_constraint)\n",
        "    if attention_axes is not None and not isinstance(attention_axes,\n",
        "                                                     collections.abc.Sized):\n",
        "      self._attention_axes = (attention_axes,)\n",
        "    else:\n",
        "      self._attention_axes = attention_axes\n",
        "    self._built_from_signature = False\n",
        "    self._query_shape, self._key_shape, self._value_shape = None, None, None\n",
        "\n",
        "  def get_config(self):\n",
        "    config = {\n",
        "        \"num_heads\":\n",
        "            self._num_heads,\n",
        "        \"key_dim\":\n",
        "            self._key_dim,\n",
        "        \"value_dim\":\n",
        "            self._value_dim,\n",
        "        \"dropout\":\n",
        "            self._dropout,\n",
        "        \"use_bias\":\n",
        "            self._use_bias,\n",
        "        \"output_shape\":\n",
        "            self._output_shape,\n",
        "        \"attention_axes\":\n",
        "            self._attention_axes,\n",
        "        \"kernel_initializer\":\n",
        "            initializers.serialize(self._kernel_initializer),\n",
        "        \"bias_initializer\":\n",
        "            initializers.serialize(self._bias_initializer),\n",
        "        \"kernel_regularizer\":\n",
        "            regularizers.serialize(self._kernel_regularizer),\n",
        "        \"bias_regularizer\":\n",
        "            regularizers.serialize(self._bias_regularizer),\n",
        "        \"activity_regularizer\":\n",
        "            regularizers.serialize(self._activity_regularizer),\n",
        "        \"kernel_constraint\":\n",
        "            constraints.serialize(self._kernel_constraint),\n",
        "        \"bias_constraint\":\n",
        "            constraints.serialize(self._bias_constraint),\n",
        "        \"query_shape\": self._query_shape,\n",
        "        \"key_shape\": self._key_shape,\n",
        "        \"value_shape\": self._value_shape,\n",
        "    }\n",
        "    base_config = super(MultiHeadAttention2, self).get_config()\n",
        "    return dict(list(base_config.items()) + list(config.items()))\n",
        "\n",
        "  @classmethod\n",
        "  def from_config(cls, config):\n",
        "    query_shape = config.pop(\"query_shape\")\n",
        "    key_shape = config.pop(\"key_shape\")\n",
        "    value_shape = config.pop(\"value_shape\")\n",
        "    layer = cls(**config)\n",
        "    if None in [query_shape, key_shape, value_shape]:\n",
        "      logging.warning(\n",
        "          \"One of the input shape is missing. They should be \"\n",
        "          \"memorized when the layer was serialized. \"\n",
        "          \"%s is created without weights.\",\n",
        "          str(cls))\n",
        "    else:\n",
        "      layer._build_from_signature(query_shape, value_shape, key_shape)  # pylint: disable=protected-access\n",
        "    return layer\n",
        "\n",
        "  def _build_from_signature(self, query, value, key=None):\n",
        "    self._built_from_signature = True\n",
        "    if hasattr(query, \"shape\"):\n",
        "      self._query_shape = tensor_shape.TensorShape(query.shape)\n",
        "    else:\n",
        "      self._query_shape = tensor_shape.TensorShape(query)\n",
        "    if hasattr(value, \"shape\"):\n",
        "      self._value_shape = tensor_shape.TensorShape(value.shape)\n",
        "    else:\n",
        "      self._value_shape = tensor_shape.TensorShape(value)\n",
        "    if key is None:\n",
        "      self._key_shape = self._value_shape\n",
        "    elif hasattr(key, \"shape\"):\n",
        "      self._key_shape = tensor_shape.TensorShape(key.shape)\n",
        "    else:\n",
        "      self._key_shape = tensor_shape.TensorShape(key)\n",
        "\n",
        "    common_kwargs = dict(\n",
        "        kernel_initializer=self._kernel_initializer,\n",
        "        bias_initializer=self._bias_initializer,\n",
        "        kernel_regularizer=self._kernel_regularizer,\n",
        "        bias_regularizer=self._bias_regularizer,\n",
        "        activity_regularizer=self._activity_regularizer,\n",
        "        kernel_constraint=self._kernel_constraint,\n",
        "        bias_constraint=self._bias_constraint)\n",
        "\n",
        "    with tf_utils.maybe_init_scope(self):\n",
        "      free_dims = self._query_shape.rank - 1\n",
        "      einsum_equation, bias_axes, output_rank = _build_proj_equation(\n",
        "          free_dims, bound_dims=1, output_dims=2)\n",
        "      self._query_dense = einsum_dense.EinsumDense(\n",
        "          einsum_equation,\n",
        "          output_shape=_get_output_shape(output_rank - 1,\n",
        "                                         [self._num_heads, self._key_dim]),\n",
        "          bias_axes=bias_axes if self._use_bias else None,\n",
        "          name=\"query\",\n",
        "          **common_kwargs)\n",
        "      einsum_equation, bias_axes, output_rank = _build_proj_equation(\n",
        "          self._key_shape.rank - 1, bound_dims=1, output_dims=2)\n",
        "      self._key_dense = einsum_dense.EinsumDense(\n",
        "          einsum_equation,\n",
        "          output_shape=_get_output_shape(output_rank - 1,\n",
        "                                         [self._num_heads, self._key_dim]),\n",
        "          bias_axes=bias_axes if self._use_bias else None,\n",
        "          name=\"key\",\n",
        "          **common_kwargs)\n",
        "      einsum_equation, bias_axes, output_rank = _build_proj_equation(\n",
        "          self._value_shape.rank - 1, bound_dims=1, output_dims=2)\n",
        "      self._value_dense = einsum_dense.EinsumDense(\n",
        "          einsum_equation,\n",
        "          output_shape=_get_output_shape(output_rank - 1,\n",
        "                                         [self._num_heads, self._value_dim]),\n",
        "          bias_axes=bias_axes if self._use_bias else None,\n",
        "          name=\"value\",\n",
        "          **common_kwargs)\n",
        "      self._build_attention(output_rank)\n",
        "      self._output_dense = self._make_output_dense(\n",
        "          free_dims, common_kwargs, \"attention_output\")\n",
        "\n",
        "  def _make_output_dense(self, free_dims, common_kwargs, name=None):\n",
        "    if self._output_shape:\n",
        "      if not isinstance(self._output_shape, collections.abc.Sized):\n",
        "        output_shape = [self._output_shape]\n",
        "      else:\n",
        "        output_shape = self._output_shape\n",
        "    else:\n",
        "      output_shape = [self._query_shape[-1]]\n",
        "    einsum_equation, bias_axes, output_rank = _build_proj_equation(\n",
        "        free_dims, bound_dims=2, output_dims=len(output_shape))\n",
        "    return einsum_dense.EinsumDense(\n",
        "        einsum_equation,\n",
        "        output_shape=_get_output_shape(output_rank - 1, output_shape),\n",
        "        bias_axes=bias_axes if self._use_bias else None,\n",
        "        name=name,\n",
        "        **common_kwargs)\n",
        "\n",
        "  def _build_attention(self, rank):\n",
        "    if self._attention_axes is None:\n",
        "      self._attention_axes = tuple(range(1, rank - 2))\n",
        "    else:\n",
        "      self._attention_axes = tuple(self._attention_axes)\n",
        "    self._dot_product_equation, self._combine_equation, attn_scores_rank = (\n",
        "        _build_attention_equation(rank, attn_axes=self._attention_axes))\n",
        "    norm_axes = tuple(\n",
        "        range(attn_scores_rank - len(self._attention_axes), attn_scores_rank))\n",
        "    self._softmax = advanced_activations.Softmax(axis=norm_axes)\n",
        "    self._dropout_layer = core.Dropout(rate=self._dropout)\n",
        "\n",
        "  def _masked_softmax(self, attention_scores, attention_mask=None):\n",
        "    if attention_mask is not None:\n",
        "      mask_expansion_axes = [-len(self._attention_axes) * 2 - 1]\n",
        "      for _ in range(len(attention_scores.shape) - len(attention_mask.shape)):\n",
        "        attention_mask = array_ops.expand_dims(\n",
        "            attention_mask, axis=mask_expansion_axes)\n",
        "    return self._softmax(attention_scores, attention_mask)\n",
        "\n",
        "  def _compute_attention(self,\n",
        "                         query,\n",
        "                         key,\n",
        "                         value,\n",
        "                         attention_mask=None,\n",
        "                         training=None):\n",
        "\n",
        "    \"\"\"---------------------------Modified section------------------------------\"\"\"\n",
        "    query = math_ops.multiply(query, 1.0 / math.sqrt(float(self._key_dim)))\n",
        "\n",
        "    key0 = math_ops.multiply(key, 1.0 / math.sqrt(float(self._key_dim)))\n",
        "\n",
        "    value0 = math_ops.multiply(value, 1.0 / math.sqrt(float(self._key_dim)))\n",
        "\n",
        "    attention_scores = special_math_ops.einsum(self._dot_product_equation, key,\n",
        "                                               query)\n",
        "    \n",
        "    attention_scores1 = special_math_ops.einsum(self._dot_product_equation, query,\n",
        "                                               value)\n",
        "    \n",
        "    attention_scores2 = special_math_ops.einsum(self._dot_product_equation, value,\n",
        "                                               key)\n",
        "\n",
        "    attention_scores = self._masked_softmax(attention_scores, attention_mask)\n",
        "    attention_scores1 = self._masked_softmax(attention_scores1, attention_mask)\n",
        "    attention_scores2 = self._masked_softmax(attention_scores2, attention_mask)\n",
        "\n",
        "    attention_scores_dropout = self._dropout_layer(\n",
        "        attention_scores, training=training)\n",
        "    \n",
        "    attention_scores_dropout1 = self._dropout_layer(\n",
        "        attention_scores1, training=training)\n",
        "    \n",
        "    attention_scores_dropout2 = self._dropout_layer(\n",
        "        attention_scores2, training=training)\n",
        "\n",
        "    attention_output = special_math_ops.einsum(self._combine_equation,\n",
        "                                               attention_scores_dropout, value)\n",
        "    attention_output1 = special_math_ops.einsum(self._combine_equation,\n",
        "                                               attention_scores_dropout1, key)\n",
        "    attention_output2 = special_math_ops.einsum(self._combine_equation,\n",
        "                                               attention_scores_dropout2, query)\n",
        "\n",
        "    attention_output=tf.math.scalar_mul(1/3.,tf.add(tf.add(attention_output, attention_output1),attention_output2))\n",
        "    attention_scores=tf.math.scalar_mul(1/3.,tf.add(tf.add(attention_scores, attention_scores1),attention_scores2))\n",
        "  \n",
        "    return attention_output, attention_scores\n",
        "\n",
        "  def call(self,\n",
        "           query,\n",
        "           value,\n",
        "           key=None,\n",
        "           attention_mask=None,\n",
        "           return_attention_scores=False,\n",
        "           training=None):\n",
        "    if not self._built_from_signature:\n",
        "      self._build_from_signature(query=query, value=value, key=key)\n",
        "    if key is None:\n",
        "      key = value\n",
        "\n",
        "    query = self._query_dense(query)\n",
        "    key = self._key_dense(key)\n",
        "    value = self._value_dense(value)\n",
        "\n",
        "    attention_output, attention_scores = self._compute_attention(\n",
        "        query, key, value, attention_mask, training)\n",
        "    attention_output = self._output_dense(attention_output)\n",
        "\n",
        "    if return_attention_scores:\n",
        "      return attention_output, attention_scores\n",
        "    return attention_output"
      ],
      "execution_count": 37,
      "outputs": []
    },
    {
      "cell_type": "code",
      "metadata": {
        "id": "dL4xn7pS8pd4"
      },
      "source": [
        "def create_vit_classifier():\n",
        "    inputs = layers.Input(shape=input_shape)\n",
        "    # Augment data.\n",
        "    augmented = data_augmentation(inputs)\n",
        "    # Create patches.\n",
        "    patches = Patches(patch_size)(augmented)\n",
        "    # Encode patches.\n",
        "    encoded_patches = PatchEncoder(num_patches, projection_dim)(patches)\n",
        "\n",
        "    # Create multiple layers of the Transformer block.\n",
        "    for _ in range(transformer_layers):\n",
        "        # Layer normalization 1.\n",
        "        x1 = layers.LayerNormalization(epsilon=1e-6)(encoded_patches)\n",
        "        # Create a multi-head attention layer.\n",
        "        attention_output = MultiHeadAttention2(\n",
        "            num_heads=num_heads, key_dim=projection_dim, dropout=0.1\n",
        "        )(x1, x1)\n",
        "        # Skip connection 1.\n",
        "        x2 = layers.Add()([attention_output, encoded_patches])\n",
        "        # Layer normalization 2.\n",
        "        x3 = layers.LayerNormalization(epsilon=1e-6)(x2)\n",
        "        # MLP.\n",
        "        x3 = mlp(x3, hidden_units=transformer_units, dropout_rate=0.1)\n",
        "        # Skip connection 2.\n",
        "        encoded_patches = layers.Add()([x3, x2])\n",
        "\n",
        "    # Create a [batch_size, projection_dim] tensor.\n",
        "    representation = layers.LayerNormalization(epsilon=1e-6)(encoded_patches)\n",
        "    representation = layers.Flatten()(representation)\n",
        "    representation = layers.Dropout(0.5)(representation)\n",
        "    # Add MLP.\n",
        "    features = mlp(representation, hidden_units=mlp_head_units, dropout_rate=0.5)\n",
        "    # Classify outputs.\n",
        "    logits = layers.Dense(num_classes)(features)\n",
        "    # Create the Keras model.\n",
        "    model = keras.Model(inputs=inputs, outputs=logits)\n",
        "    optimizer = tfa.optimizers.AdamW(learning_rate=learning_rate, weight_decay=weight_decay)\n",
        "    model.compile(optimizer=optimizer, loss=keras.losses.SparseCategoricalCrossentropy(from_logits=True),\n",
        "                  metrics=keras.metrics.SparseCategoricalAccuracy(name=\"accuracy\"))\n",
        "    return model"
      ],
      "execution_count": 38,
      "outputs": []
    },
    {
      "cell_type": "code",
      "metadata": {
        "id": "EOYZWAyQ1iZw"
      },
      "source": [
        "def get_model(network, opt='adadelta', loss_name='categorical_crossentropy', input_shape=(240,240,3), classes=2, weights='imagenet'):\n",
        "  if network=='Transformer':\n",
        "    model=create_vit_classifier()\n",
        "    return model\n",
        "  else:\n",
        "    try:\n",
        "      del model\n",
        "    except:\n",
        "      print('done')\n",
        "    model=Sequential()\n",
        "    if network=='ResNet50V2':\n",
        "      model.add(ap.ResNet50V2(include_top=False, weights=weights, input_shape=input_shape, pooling='avg', classes=classes)) # The input must have 3 channels\n",
        "    if network=='EfficientNetB7':\n",
        "      model.add(ap.EfficientNetB7(include_top=False, weights=weights, input_shape=input_shape, pooling='avg', classes=classes)) \n",
        "    if network=='InceptionResNetV2':\n",
        "      model.add(ap.InceptionResNetV2(include_top=False, weights=weights, input_shape=input_shape, pooling='avg', classes=classes)) \n",
        "    if network=='InceptionV3':\n",
        "      model.add(ap.InceptionV3(include_top=False, weights=weights, input_shape=input_shape, pooling='avg', classes=classes)) \n",
        "    if network=='NASNetLarge':\n",
        "      model.add(ap.NASNetLarge(include_top=False, weights=weights, input_shape=input_shape, pooling='avg', classes=classes))\n",
        "    if network=='VGG19':\n",
        "      model.add(ap.VGG19(include_top=False, weights=weights, input_shape=input_shape, pooling='avg', classes=classes)) \n",
        "    if network=='Xception':\n",
        "      model.add(ap.Xception(include_top=False, weights=weights, input_shape=input_shape, pooling='avg', classes=classes))\n",
        "    if network=='DenseNet121':\n",
        "      model.add(ap.DenseNet121(include_top=False, weights=weights, input_shape=input_shape, pooling='avg', classes=classes))    \n",
        "    model.add(Dense(classes, activation='softmax'))\n",
        "    model.compile(optimizer=opt, loss=loss_name, metrics=['acc', tf.keras.metrics.Recall(), tf.keras.metrics.FalsePositives()])\n",
        "    return model"
      ],
      "execution_count": 39,
      "outputs": []
    },
    {
      "cell_type": "code",
      "metadata": {
        "id": "L_2SI7-12Afv"
      },
      "source": [
        "def run_experiment(images, labels, number_class, augm_con, name='', star_run=0, end_run=30, batch_size=4): \n",
        "  for net in Networks:\n",
        "    name_0='_'.join(['clasification_t', name, str(transferlearning), augm_con, net, optimizer])\n",
        "    if not os.path.exists(path2+name_0+'.csv'):\n",
        "      df.to_csv(path2+name_0+'.csv')\n",
        "\n",
        "    train_id, test_id=get_index(labels)\n",
        "    x_test, y_test=get_data_training(test_id, images, labels)\n",
        "    y_test=np.argmax(y_test, axis=1).reshape(np.shape(y_test)[0],1)>=0.5\n",
        "\n",
        "    for i in range(star_run, end_run): #Numero corridas \n",
        "      for j in [loss]: #Funciones de perdida\n",
        "        cntn=True\n",
        "        name_m='_'.join([name_0,j,'run',str(i)])  \n",
        "        print(name_m)\n",
        "\n",
        "        #Obtener imagenes nuevamente\n",
        "        x_train, x_valid, y_train, y_valid=get_data_training(train_id, images, labels, k_fold=i%10, augm=(augm_con!='None'))      \n",
        "        model=get_model(net, classes=number_class, input_shape=list(np.shape(x_train)[1:]),  weights=transferlearning)\n",
        "        \n",
        "        try:\n",
        "          tic = time.time()\n",
        "          results = model.fit(x_train, np.argmax(y_train, axis=1).reshape(np.shape(y_train)[0],1),\n",
        "                              validation_data=(x_valid, np.argmax(y_valid, axis=1).reshape(np.shape(y_valid)[0],1)), batch_size=batch_size, epochs=epochs)\n",
        "          toc=time.time()-tic\n",
        "          model.save_weights(pathW+name_m+\"w.h5\")\n",
        "        except:\n",
        "          print('Training error')\n",
        "          cntn=False\n",
        "\n",
        "        if cntn:\n",
        "          sio.savemat(pathW+name_m+'_r.mat', results.history)\n",
        "\n",
        "          #Validation\n",
        "          y_hat=np.array(model.predict(x_test))\n",
        "          sio.savemat(pathW+name_m+'_los_8.mat',{'y_hat': y_hat, 'y_test': np.array(y_test)})\n",
        "          y_hat=y_hat>=0.5\n",
        "\n",
        "          for class_i in range(number_class):\n",
        "            TP.reset_state()\n",
        "            TN.reset_state()\n",
        "            FP.reset_state()\n",
        "            FN.reset_state()        \n",
        "\n",
        "            TP.update_state(y_test[:,class_i], y_hat[:,class_i])\n",
        "            TN.update_state(y_test[:,class_i], y_hat[:,class_i])\n",
        "            FP.update_state(y_test[:,class_i], y_hat[:,class_i])\n",
        "            FN.update_state(y_test[:,class_i], y_hat[:,class_i])\n",
        "            total_p=model.count_params()\n",
        "\n",
        "            #data frame\n",
        "            df2=pd.read_csv(path2+name_0+'.csv')\n",
        "            df2=df2.append({'run_n': i,\n",
        "                            'k_fold': i%10,\n",
        "                            'network': net,\n",
        "                            'optimizer': optimizer,\n",
        "                            'loss': 'categorical_crossentropy',\n",
        "                            'epochs': epochs,\n",
        "                            'total_parameters': total_p,\n",
        "                            'time': toc,\n",
        "                            'transfer': transferlearning,\n",
        "                            'augm': augm_con,\n",
        "                            'Class': class_i,\n",
        "                            'TP': float(TP.result()),\n",
        "                            'TN': float(TN.result()),\n",
        "                            'FP': float(FP.result()),\n",
        "                            'FN': float(FN.result()),\n",
        "                            'result_mat': name_m+'_r.mat'} , ignore_index=True)\n",
        "            df2=df2.drop(df2.columns[:np.where(df2.columns=='run_n')[0][0]], axis=1)\n",
        "            df2.to_csv(path2+name_0+'.csv')\n",
        "          del x_train, y_train, x_valid, y_valid, model\n",
        "          clear_output(wait=True)\n",
        "    star_run=0"
      ],
      "execution_count": 40,
      "outputs": []
    },
    {
      "cell_type": "code",
      "metadata": {
        "id": "vcFMigCa2FzX"
      },
      "source": [
        "root='/content/drive/MyDrive/Brain_tumors_v2'\n",
        "\n",
        "Networks=['Transformer']\n",
        "path2=root+'/Results/TCIADetection/TransformerC/results_csv/'\n",
        "pathW=root+'/Results/TCIADetection/TransformerC/Weights/'\n",
        "\n",
        "augmentation='None'\n",
        "transferlearning=None\n",
        "optimizer='adadelta'\n",
        "epochs=50\n",
        "loss='categorical_crossentropy'\n",
        "\n",
        "#----------------------------------RUN------------------------------------------\n",
        "seq='FLAIR'#,\n",
        "imas, labs, no_cls=get_data(seq)\n",
        "run_experiment(imas, labs, no_cls, augmentation, seq, star_run=0)"
      ],
      "execution_count": 41,
      "outputs": []
    }
  ]
}